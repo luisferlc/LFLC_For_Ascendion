{
 "cells": [
  {
   "cell_type": "code",
   "execution_count": 11,
   "id": "17dfbfc4",
   "metadata": {},
   "outputs": [],
   "source": [
    "import pandas as pd\n",
    "import plotly.express as px\n",
    "from dash import Dash, dcc, html\n",
    "from dash.dependencies import Output, Input"
   ]
  },
  {
   "cell_type": "code",
   "execution_count": 12,
   "id": "ec4c9681",
   "metadata": {},
   "outputs": [],
   "source": [
    "df_a = pd.read_csv(\"Clean_For_Dashboard.csv\")\n",
    "df_a = df_a.drop(columns = 'Unnamed: 0')"
   ]
  },
  {
   "cell_type": "code",
   "execution_count": 10,
   "id": "23125bfe",
   "metadata": {},
   "outputs": [],
   "source": [
    "fig1 = px.line(df_a, x=\"Date\", y=df_a.columns, title='',\n",
    "              color_discrete_sequence = px.colors.qualitative.Set1,markers=True)\n",
    "fig1.update_layout(yaxis_title='',legend_title=\"Metric\", \n",
    "    legend=dict( \n",
    "        title_font_family=\"Calibri\",\n",
    "        font=dict( \n",
    "            family=\"Calibri\", \n",
    "            size=13, \n",
    "            color=\"black\"\n",
    "        ), \n",
    "        borderwidth=0.2\n",
    "    ) \n",
    ") \n",
    "\n",
    "app = Dash(__name__)\n",
    "\n",
    "app.layout = html.Div([\n",
    "    html.H1(\"Executive Summary\"),\n",
    "    html.H3(\"Defects and Opportunities\"),\n",
    "    dcc.Dropdown(id='dropdown', options = ['Defects','Opportunities'], value='Defects', multi=False),\n",
    "    dcc.Graph(id = 'visual'),\n",
    "    html.H3(\"General Behaviour Over Time\"),\n",
    "    html.Div(dcc.Graph(figure=fig1))\n",
    "])\n",
    "\n",
    "   \n",
    "@app.callback(Output(\"visual\", \"figure\"),Input(\"dropdown\",\"value\"))\n",
    "def output_visual(metric):\n",
    "    figure = px.line(df_a,'Date',metric,color_discrete_sequence = px.colors.qualitative.G10,markers=True)\n",
    "    return figure\n",
    "\n",
    "if __name__ == '__main__':\n",
    "   app.run(debug=True)"
   ]
  },
  {
   "cell_type": "code",
   "execution_count": null,
   "id": "11e3af7d",
   "metadata": {},
   "outputs": [],
   "source": []
  }
 ],
 "metadata": {
  "kernelspec": {
   "display_name": "Python 3 (ipykernel)",
   "language": "python",
   "name": "python3"
  },
  "language_info": {
   "codemirror_mode": {
    "name": "ipython",
    "version": 3
   },
   "file_extension": ".py",
   "mimetype": "text/x-python",
   "name": "python",
   "nbconvert_exporter": "python",
   "pygments_lexer": "ipython3",
   "version": "3.11.5"
  }
 },
 "nbformat": 4,
 "nbformat_minor": 5
}
